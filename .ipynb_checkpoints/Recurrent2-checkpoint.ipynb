{
 "cells": [
  {
   "cell_type": "code",
   "execution_count": 1,
   "metadata": {},
   "outputs": [],
   "source": [
    "import matplotlib\n",
    "import matplotlib.pyplot as plt\n",
    "from IPython.display import Image, display, clear_output\n",
    "import numpy as np\n",
    "%matplotlib nbagg\n",
    "%matplotlib inline\n",
    "import seaborn as sns\n",
    "sns.set_style(\"whitegrid\")\n",
    "sns.set_palette(sns.dark_palette(\"purple\"))"
   ]
  },
  {
   "cell_type": "code",
   "execution_count": 2,
   "metadata": {},
   "outputs": [
    {
     "name": "stderr",
     "output_type": "stream",
     "text": [
      "C:\\Users\\andre\\Anaconda3\\lib\\site-packages\\torchvision\\datasets\\mnist.py:43: UserWarning: train_labels has been renamed targets\n",
      "  warnings.warn(\"train_labels has been renamed targets\")\n",
      "C:\\Users\\andre\\Anaconda3\\lib\\site-packages\\torchvision\\datasets\\mnist.py:48: UserWarning: test_labels has been renamed targets\n",
      "  warnings.warn(\"test_labels has been renamed targets\")\n"
     ]
    }
   ],
   "source": [
    "import torch\n",
    "cuda = torch.cuda.is_available()\n",
    "\n",
    "from torch.utils.data import DataLoader\n",
    "from torch.utils.data.sampler import SubsetRandomSampler\n",
    "from torchvision.datasets import MNIST\n",
    "# We need some other data!!\n",
    "from torchvision.transforms import ToTensor\n",
    "from functools import reduce\n",
    "\n",
    "# Flatten the images into a vector\n",
    "flatten = lambda x: ToTensor()(x).view(28**2)\n",
    "\n",
    "# Define the train and test sets\n",
    "dset_train = MNIST(\"./\", train=True,  transform=flatten, download=True)\n",
    "dset_test  = MNIST(\"./\", train=False, transform=flatten)\n",
    "\n",
    "# The digit classes to use\n",
    "#classes = [3, 7]\n",
    "classes=[0, 1, 4, 9]\n",
    "\n",
    "def stratified_sampler(labels):\n",
    "    \"\"\"Sampler that only picks datapoints corresponding to the specified classes\"\"\"\n",
    "    (indices,) = np.where(reduce(lambda x, y: x | y, [labels.numpy() == i for i in classes]))\n",
    "    indices = torch.from_numpy(indices)\n",
    "    return SubsetRandomSampler(indices)\n",
    "\n",
    "\n",
    "batch_size = 64\n",
    "# The loaders perform the actual work\n",
    "train_loader = DataLoader(dset_train, batch_size=batch_size,\n",
    "                          sampler=stratified_sampler(dset_train.train_labels), pin_memory=cuda)\n",
    "test_loader  = DataLoader(dset_test, batch_size=batch_size, \n",
    "                          sampler=stratified_sampler(dset_test.test_labels), pin_memory=cuda)"
   ]
  },
  {
   "cell_type": "code",
   "execution_count": 50,
   "metadata": {},
   "outputs": [
    {
     "ename": "ModuleNotFoundError",
     "evalue": "No module named 'torch.utils.data.Dataset'",
     "output_type": "error",
     "traceback": [
      "\u001b[1;31m---------------------------------------------------------------------------\u001b[0m",
      "\u001b[1;31mModuleNotFoundError\u001b[0m                       Traceback (most recent call last)",
      "\u001b[1;32m<ipython-input-50-bd5afba7a3e8>\u001b[0m in \u001b[0;36m<module>\u001b[1;34m\u001b[0m\n\u001b[0;32m      1\u001b[0m \u001b[1;32mimport\u001b[0m \u001b[0mpandas\u001b[0m \u001b[1;32mas\u001b[0m \u001b[0mpd\u001b[0m\u001b[1;33m\u001b[0m\u001b[1;33m\u001b[0m\u001b[0m\n\u001b[1;32m----> 2\u001b[1;33m \u001b[1;32mimport\u001b[0m \u001b[0mtorch\u001b[0m\u001b[1;33m.\u001b[0m\u001b[0mutils\u001b[0m\u001b[1;33m.\u001b[0m\u001b[0mdata\u001b[0m\u001b[1;33m.\u001b[0m\u001b[0mDataset\u001b[0m\u001b[1;33m\u001b[0m\u001b[1;33m\u001b[0m\u001b[0m\n\u001b[0m\u001b[0;32m      3\u001b[0m \u001b[0mtrain_data\u001b[0m \u001b[1;33m=\u001b[0m \u001b[0mpd\u001b[0m\u001b[1;33m.\u001b[0m\u001b[0mread_table\u001b[0m\u001b[1;33m(\u001b[0m\u001b[1;34m'ECG5000\\ECG5000_TRAIN.tsv'\u001b[0m\u001b[1;33m)\u001b[0m\u001b[1;33m\u001b[0m\u001b[1;33m\u001b[0m\u001b[0m\n\u001b[0;32m      4\u001b[0m \u001b[0mtest_data\u001b[0m \u001b[1;33m=\u001b[0m \u001b[0mpd\u001b[0m\u001b[1;33m.\u001b[0m\u001b[0mread_table\u001b[0m\u001b[1;33m(\u001b[0m\u001b[1;34m'ECG5000\\ECG5000_TEST.tsv'\u001b[0m\u001b[1;33m)\u001b[0m\u001b[1;33m\u001b[0m\u001b[1;33m\u001b[0m\u001b[0m\n",
      "\u001b[1;31mModuleNotFoundError\u001b[0m: No module named 'torch.utils.data.Dataset'"
     ]
    }
   ],
   "source": [
    "import pandas as pd\n",
    "import torch.utils.data.Dataset\n",
    "train_data = pd.read_table('ECG5000\\ECG5000_TRAIN.tsv')\n",
    "test_data = pd.read_table('ECG5000\\ECG5000_TEST.tsv')"
   ]
  },
  {
   "cell_type": "code",
   "execution_count": 52,
   "metadata": {},
   "outputs": [
    {
     "data": {
      "text/plain": [
       "<__main__.TrainDataset at 0x1a0ef2143c8>"
      ]
     },
     "execution_count": 52,
     "metadata": {},
     "output_type": "execute_result"
    }
   ],
   "source": [
    "train_data.shape\n",
    "train_data.iloc[300,1:140]\n",
    "torch.zeros(train_data.shape[0], train_data.shape[1]-1).size()"
   ]
  },
  {
   "cell_type": "code",
   "execution_count": 58,
   "metadata": {},
   "outputs": [],
   "source": [
    "class TrainDataset(torch.utils.data.Dataset):\n",
    "  def __init__(self, window_size=100):\n",
    "    #self.oudataframe = pd.DataFrame(np.random.randn(400, 2))\n",
    "    #self.window_size = window_size\n",
    "    self.traindataframe = train_data\n",
    "\n",
    "  def __len__(self):\n",
    "    return train_data.shape[1]-1 # This is always 140 for this dataset\n",
    "  \n",
    "  def __getitem__(self, idx):\n",
    "    #idx = idx * self.window_size #Indexing should be straight forward here\n",
    "    print('window: {}-{}'.format(idx, idx))\n",
    "    data = torch.zeros(train_data.shape[0], train_data.shape[1]-1)\n",
    "    target = torch.zeros(train_data.shape[0],1)\n",
    "    for i in range(0, train_data.shape[0]):\n",
    "      data[i] = torch.tensor(self.traindataframe.iloc[i,1:141])\n",
    "      target[i] = torch.tensor(self.traindataframe.iloc[i,0])\n",
    "    return data, target\n",
    "\n",
    "class TestDataset(torch.utils.data.Dataset):\n",
    "  def __init__(self, window_size=100):\n",
    "    #self.oudataframe = pd.DataFrame(np.random.randn(400, 2))\n",
    "    #self.window_size = window_size\n",
    "    self.testdataframe = train_data\n",
    "\n",
    "  def __len__(self):\n",
    "    return train_data.shape[1]-1 # This is always 140 for this dataset\n",
    "  \n",
    "  def __getitem__(self, idx):\n",
    "    #idx = idx * self.window_size #Indexing should be straight forward here\n",
    "    print('window: {}-{}'.format(idx, idx))\n",
    "    data = torch.zeros(test_data.shape[0], test_data.shape[1]-1)\n",
    "    target = torch.zeros(test_data.shape[0],1)\n",
    "    for i in range(0, train_data.shape[0]):\n",
    "      data[i] = torch.tensor(self.testdataframe.iloc[i,1:141])\n",
    "      target[i] = torch.tensor(self.testdataframe.iloc[i,0])\n",
    "    return data, target\n",
    "\n",
    "dset_train = TrainDataset()\n",
    "dset_test = TestDataset()\n",
    "batch_size = 64\n",
    "# The loaders perform the actual work\n",
    "train_loader = DataLoader(dset_train, batch_size=batch_size)\n",
    "                          #,sampler=stratified_sampler(dset_train.train_labels), pin_memory=cuda)\n",
    "test_loader  = DataLoader(dset_test, batch_size=batch_size) \n",
    "                          #,sampler=stratified_sampler(dset_test.test_labels), pin_memory=cuda)"
   ]
  },
  {
   "cell_type": "code",
   "execution_count": null,
   "metadata": {},
   "outputs": [],
   "source": [
    "#dataSet = TestDataset()\n",
    "#dataloader = DataLoader(dataSet, batch_size=2, shuffle=False)\n",
    "#for idx, (data, target) in enumerate(dataloader):\n",
    "#    print('BatchIdx {}, data.shape {}, target.shape {}'.format(\n",
    "#            idx, data.shape, target.shape))"
   ]
  }
 ],
 "metadata": {
  "kernelspec": {
   "display_name": "Python 3",
   "language": "python",
   "name": "python3"
  },
  "language_info": {
   "codemirror_mode": {
    "name": "ipython",
    "version": 3
   },
   "file_extension": ".py",
   "mimetype": "text/x-python",
   "name": "python",
   "nbconvert_exporter": "python",
   "pygments_lexer": "ipython3",
   "version": "3.7.5"
  }
 },
 "nbformat": 4,
 "nbformat_minor": 2
}
